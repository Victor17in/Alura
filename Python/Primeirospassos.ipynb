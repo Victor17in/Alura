{
  "nbformat": 4,
  "nbformat_minor": 0,
  "metadata": {
    "colab": {
      "name": "Primeirospassos.ipynb",
      "provenance": [],
      "authorship_tag": "ABX9TyOUIUp/krKGsXm4eWRMhU1V",
      "include_colab_link": true
    },
    "kernelspec": {
      "name": "python3",
      "display_name": "Python 3"
    },
    "language_info": {
      "name": "python"
    }
  },
  "cells": [
    {
      "cell_type": "markdown",
      "metadata": {
        "id": "view-in-github",
        "colab_type": "text"
      },
      "source": [
        "<a href=\"https://colab.research.google.com/github/Victor17in/Alura/blob/main/Python/Primeirospassos.ipynb\" target=\"_parent\"><img src=\"https://colab.research.google.com/assets/colab-badge.svg\" alt=\"Open In Colab\"/></a>"
      ]
    },
    {
      "cell_type": "code",
      "metadata": {
        "id": "N9ZvCK3GHsS8",
        "colab": {
          "base_uri": "https://localhost:8080/"
        },
        "outputId": "62eeb6b0-234e-4eb6-de45-bff78b3d8d20"
      },
      "source": [
        "#Aula 1\n",
        "def nome_completo():\n",
        " primeiro_nome = input('Qual seu primeiro nome? ')\n",
        " sobrenome = input('Qual seu sobrenome? ')\n",
        " nome_inteiro = primeiro_nome + ' ' + sobrenome\n",
        " print(nome_inteiro)\n",
        "\n",
        "nome_completo()"
      ],
      "execution_count": null,
      "outputs": [
        {
          "output_type": "stream",
          "text": [
            "Qual seu primeiro nome? h\n",
            "Qual seu sobrenome? 6\n",
            "h 6\n"
          ],
          "name": "stdout"
        }
      ]
    },
    {
      "cell_type": "code",
      "metadata": {
        "colab": {
          "base_uri": "https://localhost:8080/"
        },
        "id": "NKkB5ixc1RMx",
        "outputId": "27910ac4-0f2f-4d5f-e53b-6e489a635eb8"
      },
      "source": [
        "#Aula 2\n",
        "def verificar_se_pode_dirigir(idade):\n",
        "  if idade >= 18:\n",
        "    print('Você pode dirigir')\n",
        "  else:\n",
        "    print('Você não tem permissão para dirigir')\n",
        "verificar_se_pode_dirigir(19)"
      ],
      "execution_count": 4,
      "outputs": [
        {
          "output_type": "stream",
          "text": [
            "Você pode dirigir\n"
          ],
          "name": "stdout"
        }
      ]
    },
    {
      "cell_type": "code",
      "metadata": {
        "colab": {
          "base_uri": "https://localhost:8080/"
        },
        "id": "hIQSJzEl2lT5",
        "outputId": "62a02734-700a-4be0-a81a-f5047bb6025d"
      },
      "source": [
        "idade = int(input('Qual a sua idade?'))\n",
        "def verificar_se_pode_dirigir(idade):\n",
        "  if idade >= 18:\n",
        "    print('Você pode dirigir')\n",
        "  else:\n",
        "    print('Você não tem permissão para dirigir')\n",
        "verificar_se_pode_dirigir(idade)"
      ],
      "execution_count": 5,
      "outputs": [
        {
          "output_type": "stream",
          "text": [
            "Qual a sua idade?3\n",
            "Você não tem permissão para dirigir\n"
          ],
          "name": "stdout"
        }
      ]
    },
    {
      "cell_type": "code",
      "metadata": {
        "colab": {
          "base_uri": "https://localhost:8080/"
        },
        "id": "52_ksw7OAteQ",
        "outputId": "834e681f-5525-459a-d5de-996318c1dfc8"
      },
      "source": [
        "from random import randrange, seed\n",
        "randrange(0,11)\n",
        "seed(11)\n",
        "lista = []\n",
        "for notas in range(8):\n",
        "  lista.append(randrange(0,11))\n",
        "print(lista)\n",
        "len(lista)"
      ],
      "execution_count": 35,
      "outputs": [
        {
          "output_type": "stream",
          "text": [
            "[7, 8, 7, 7, 8, 9, 3, 2]\n"
          ],
          "name": "stdout"
        },
        {
          "output_type": "execute_result",
          "data": {
            "text/plain": [
              "8"
            ]
          },
          "metadata": {
            "tags": []
          },
          "execution_count": 35
        }
      ]
    },
    {
      "cell_type": "code",
      "metadata": {
        "colab": {
          "base_uri": "https://localhost:8080/",
          "height": 295
        },
        "id": "0UMhBUZtDbGj",
        "outputId": "b4c781a5-6aaa-4d8f-a53a-58117ce891d9"
      },
      "source": [
        "import matplotlib.pyplot as plt\n",
        "\n",
        "x= list(range(1,9))\n",
        "y= lista\n",
        "plt.plot(x,y, marker = 'o')\n",
        "plt.title('Notas de cálculo')\n",
        "plt.xlabel('Provas')\n",
        "plt.ylabel('Notas')\n",
        "plt.show()"
      ],
      "execution_count": 40,
      "outputs": [
        {
          "output_type": "display_data",
          "data": {
            "image/png": "[encoded data removed]",
            "text/plain": [
              "<Figure size 432x288 with 1 Axes>"
            ]
          },
          "metadata": {
            "tags": [],
            "needs_background": "light"
          }
        }
      ]
    }
  ]
}