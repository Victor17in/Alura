{
  "nbformat": 4,
  "nbformat_minor": 0,
  "metadata": {
    "colab": {
      "name": "Primeirospassos.ipynb",
      "provenance": [],
      "authorship_tag": "ABX9TyOb8QB3B10Tk2LqO/WjVXdB",
      "include_colab_link": true
    },
    "kernelspec": {
      "name": "python3",
      "display_name": "Python 3"
    },
    "language_info": {
      "name": "python"
    }
  },
  "cells": [
    {
      "cell_type": "markdown",
      "metadata": {
        "id": "view-in-github",
        "colab_type": "text"
      },
      "source": [
        "<a href=\"https://colab.research.google.com/github/Victor17in/Alura/blob/main/Python/Primeirospassos.ipynb\" target=\"_parent\"><img src=\"https://colab.research.google.com/assets/colab-badge.svg\" alt=\"Open In Colab\"/></a>"
      ]
    },
    {
      "cell_type": "code",
      "metadata": {
        "id": "N9ZvCK3GHsS8",
        "colab": {
          "base_uri": "https://localhost:8080/"
        },
        "outputId": "62eeb6b0-234e-4eb6-de45-bff78b3d8d20"
      },
      "source": [
        "#Aula 1\n",
        "def nome_completo():\n",
        " primeiro_nome = input('Qual seu primeiro nome? ')\n",
        " sobrenome = input('Qual seu sobrenome? ')\n",
        " nome_inteiro = primeiro_nome + ' ' + sobrenome\n",
        " print(nome_inteiro)\n",
        "\n",
        "nome_completo()"
      ],
      "execution_count": null,
      "outputs": [
        {
          "output_type": "stream",
          "text": [
            "Qual seu primeiro nome? h\n",
            "Qual seu sobrenome? 6\n",
            "h 6\n"
          ],
          "name": "stdout"
        }
      ]
    },
    {
      "cell_type": "code",
      "metadata": {
        "colab": {
          "base_uri": "https://localhost:8080/"
        },
        "id": "NKkB5ixc1RMx",
        "outputId": "14277a1c-1c62-4dc5-ffc3-2f78c1c6b930"
      },
      "source": [
        "#Aula 2\n",
        "def verificar_se_pode_dirigir(idade):\n",
        "  if idade >= 18:\n",
        "    print('Você pode dirigir')\n",
        "  else:\n",
        "    print('Você não tem permissão para dirigir')\n",
        "verificar_se_pode_dirigir(19)"
      ],
      "execution_count": 2,
      "outputs": [
        {
          "output_type": "stream",
          "text": [
            "Você pode dirigir\n"
          ],
          "name": "stdout"
        }
      ]
    },
    {
      "cell_type": "code",
      "metadata": {
        "colab": {
          "base_uri": "https://localhost:8080/"
        },
        "id": "hIQSJzEl2lT5",
        "outputId": "cec06f57-c355-4634-d499-7fe34e4ec639"
      },
      "source": [
        "idade = int(input('Qual a sua idade?'))\n",
        "def verificar_se_pode_dirigir(idade):\n",
        "  if idade >= 18:\n",
        "    print('Você pode dirigir')\n",
        "  else:\n",
        "    print('Você não tem permissão para dirigir')\n",
        "verificar_se_pode_dirigir(idade)"
      ],
      "execution_count": 3,
      "outputs": [
        {
          "output_type": "stream",
          "text": [
            "Qual a sua idade?10\n",
            "Você não tem permissão para dirigir\n"
          ],
          "name": "stdout"
        }
      ]
    }
  ]
}